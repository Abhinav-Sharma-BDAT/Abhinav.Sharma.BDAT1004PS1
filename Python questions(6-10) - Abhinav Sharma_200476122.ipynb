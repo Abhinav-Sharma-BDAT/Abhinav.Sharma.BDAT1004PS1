{
 "cells": [
  {
   "cell_type": "markdown",
   "id": "904b92ac",
   "metadata": {},
   "source": [
    "# Question6\n",
    "Writing a function pig() that takes a word (i.e., a string) as input and returns its pig-Latin form. Function will work if the input word contains upper case characters and output is always lower case.\n",
    "Below two executions of the function pig() and the sample results show the expected output"
   ]
  },
  {
   "cell_type": "code",
   "execution_count": 302,
   "id": "d8540c81",
   "metadata": {},
   "outputs": [
    {
     "name": "stdout",
     "output_type": "stream",
     "text": [
      "Please enter a word ? happy\n",
      "appyhay\n"
     ]
    }
   ],
   "source": [
    "# defining a function pig() that takes a word as input and returns its pig-Latin form\n",
    "def pig(string):\n",
    "#converting word/string to lower case\n",
    "       x = string.lower()\n",
    "#Checking for first letter in the word if it's a vowel. If vowel, appending'way' at the end of the word and returning string\n",
    "#If consonant, moving the first letter at the end and then appending 'ay' and returning string\n",
    "       if ( (x[0] == 'a') or (x[0] == 'e') or (x[0] == 'i') or (x[0] == 'o') or (x[0] == 'u') ):\n",
    "          string = x + 'way' \n",
    "       else:\n",
    "          string = x[1:] + x[0] + 'ay'\n",
    "       return string\n",
    "\n",
    "# accepting user input for string\n",
    "string = input (\"Please enter a word ? \")\n",
    "\n",
    "# calling function pig() passing argument string\n",
    "func = pig(string)\n",
    "\n",
    "# printing the output of function pig()\n",
    "print(func)\n"
   ]
  },
  {
   "cell_type": "code",
   "execution_count": 303,
   "id": "3a38d875",
   "metadata": {},
   "outputs": [
    {
     "name": "stdout",
     "output_type": "stream",
     "text": [
      "Please enter a word ? Enter\n",
      "enterway\n"
     ]
    }
   ],
   "source": [
    "# defining a function pig() that takes a word as input and returns its pig-Latin form\n",
    "def pig(string):\n",
    "#converting word/string to lower case\n",
    "       x = string.lower()\n",
    "#Checking for first letter in the word if it's a vowel. If vowel, appending'way' at the end of the word and returning string\n",
    "#If consonant, moving the first letter at the end and then appending 'ay' and returning string\n",
    "       if ( (x[0] == 'a') or (x[0] == 'e') or (x[0] == 'i') or (x[0] == 'o') or (x[0] == 'u') ):\n",
    "          string = x + 'way' \n",
    "       else:\n",
    "          string = x[1:] + x[0] + 'ay'\n",
    "       return string\n",
    "\n",
    "# accepting user input for string\n",
    "string = input (\"Please enter a word ? \")\n",
    "\n",
    "# calling function pig() passing argument string\n",
    "func = pig(string)\n",
    "\n",
    "# printing the output of function pig()\n",
    "print(func)\n"
   ]
  },
  {
   "cell_type": "markdown",
   "id": "420f3da5",
   "metadata": {},
   "source": [
    "# Question 7\n",
    "Writing a function bldcount() that reads the file with name name and reports i.e. prints how many patients are there are in each bloodtype. Additinally, I have displayed total number of words in the file also (which comes as 44) and this is equivalent to sum of all (a,b,c,d,e), wherein, (a,b,c,d,e) are the respective counters for each of the bloodtype i.e. a for bloodtype A, b for B, c for AB, d for O and e for bloodtype OO.\n"
   ]
  },
  {
   "cell_type": "code",
   "execution_count": 312,
   "id": "3f4dfe3a",
   "metadata": {},
   "outputs": [
    {
     "name": "stdout",
     "output_type": "stream",
     "text": [
      "There are 15 patients of blood type A\n",
      "There is 1 patient of blood type B\n",
      "There are 13 patients of blood type AB\n",
      "There are 15 patients of blood type O\n",
      "There are 0 patients of blood type OO\n",
      "Total no of words in txt file=\n",
      "44\n"
     ]
    }
   ],
   "source": [
    "#defining a function bldcount() to print how many patients are there are in each bloodtype:\n",
    "def bldcount(name):\n",
    "    infile = open('bloodtype.txt')\n",
    "#declaring counter for each of the bloodtype: a for bloodtype A, b for B, c for AB, d for O and e for bloodtype OO \n",
    "    a=0\n",
    "    b=0\n",
    "    c=0\n",
    "    d=0\n",
    "    e=0\n",
    "#reading and splitting the file to get words\n",
    "    content = infile.read()\n",
    "    wordList = content.split()\n",
    "    infile.close()\n",
    "    \n",
    "#checking if word in the file i.e. bloodtype is 'A', if yes, incrementing the counter a by 1 to get the total no of patients having bloodtype 'A'\n",
    "    for ch in wordList:\n",
    "        if ch == 'A':\n",
    "           a += 1\n",
    "    print(\"There are\", a, \"patients of blood type A\")\n",
    "   \n",
    "#checking if word in the file i.e. bloodtype is 'B', if yes, incrementing the counter b by 1 to get the total no of patients having bloodtype 'B'\n",
    "    for ch in wordList:\n",
    "        if ch == 'B':\n",
    "           b += 1\n",
    "    print(\"There is\", b, \"patient of blood type B\")\n",
    "    \n",
    "#checking if word in the file i.e. bloodtype is 'AB', if yes, incrementing the counter c by 1 to get the total no of patients having bloodtype 'AB'\n",
    "    for ch in wordList:\n",
    "        if ch == 'AB':\n",
    "           c += 1\n",
    "    print(\"There are\", c, \"patients of blood type AB\")\n",
    "    \n",
    "#checking if word in the file i.e. bloodtype is 'O', if yes, incrementing the counter d by 1 to get the total no of patients having bloodtype 'O'\n",
    "    for ch in wordList:\n",
    "        if ch == 'O':\n",
    "           d += 1\n",
    "    print(\"There are\", d, \"patients of blood type O\")\n",
    "    \n",
    "#checking if word in the file i.e. bloodtype is 'OO', if yes, incrementing the counter e by 1 to get the total no of patients having bloodtype 'OO'\n",
    "    for ch in wordList:\n",
    "        if ch == 'OO':\n",
    "           e += 1\n",
    "    print(\"There are\", e, \"patients of blood type OO\")\n",
    "    \n",
    "#displaying total number of words in the file also which is 44 and equivalent to sum of all (a,b,c,d,e)\n",
    "    print(\"Total no of words in txt file=\")\n",
    "    print(len(wordList))\n",
    "\n",
    "# calling the function bldcount() for the file 'bloodtype.txt'\n",
    "name = ('bloodtype.txt')\n",
    "func = bldcount(name)"
   ]
  },
  {
   "cell_type": "markdown",
   "id": "8a000476",
   "metadata": {},
   "source": [
    "# Question 8\n",
    "Writing a function curconv() that takes as input:\n",
    "1. a currency represented using a string (e.g., 'JPY' for the Japanese Yen or 'EUR' for the Euro)\n",
    "2. an amount\n",
    "and then converts and returns the amount in US dollars."
   ]
  },
  {
   "cell_type": "code",
   "execution_count": 12,
   "id": "26538586",
   "metadata": {},
   "outputs": [
    {
     "name": "stdout",
     "output_type": "stream",
     "text": [
      "Converted amount for EUR currency is 122.96544\n"
     ]
    }
   ],
   "source": [
    "#defining a function curconv() which will take currency and amount as input and then convert and return the amount in US dollars \n",
    "def curconv(currency, amount):\n",
    "    infile = open('curriencies.txt')\n",
    "\n",
    "    #reading and splitting the file to separate words\n",
    "    content  = infile.read()\n",
    "    wordList = content.split()\n",
    "    infile.close()\n",
    "    \n",
    "    amount_convert = 1\n",
    "    count = 0\n",
    "    \n",
    "    #Looping every word wordList[i] with entire length i.e. len(wordList) using range with a increment of 1 \n",
    "    #Next stripping every word in the iteration, to get each alphabet of the respective word as stripLine\n",
    "    for i in range(0, len(wordList),1):\n",
    "        stripLine = wordList[i].strip()\n",
    "        #checking 2nd occurence (1th place) equal to '.' for each and every word, so as to convert only the string value (numerical rates) into float\n",
    "        if (stripLine[1] == '.'):\n",
    "            wordList[i] = float(wordList[i])\n",
    "#        print(wordList[i])\n",
    "#        print(type(wordList[i]))\n",
    "#        print(wordList)\n",
    "\n",
    "    #Now looping each and every word again with entire length i.e. len(wordList) using range with a increment of 1 \n",
    "    for j in range(0, len(wordList),1):\n",
    "#        print(wordList[j])\n",
    "#        print(wordList[j+1])\n",
    "#        print(type(wordList[j+1]))\n",
    "\n",
    "        #checking if upper case of passed currency from called function curconv() is equal to currency stored in the file 'curriencies.txt'\n",
    "        #if currency matches, calculating converted currency value as amount_convert using converted float currency value which is adjacent to currency (wordList[j+1]) as per file\n",
    "        if (currency.upper() == wordList[j]):\n",
    "             amount_convert = ((amount) * (wordList[j+1]))\n",
    "             count += 1 \n",
    "#             print(amount_convert)\n",
    "        #printing converted amount using format\n",
    "             print(\"Converted amount for {} currency is {}\".format(currency,amount_convert))\n",
    "    return amount\n",
    "    \n",
    "\n",
    "# calling the function curconv() for the file 'curriencies.txt'\n",
    "func = curconv(\"EUR\", 100)\n"
   ]
  },
  {
   "cell_type": "code",
   "execution_count": 13,
   "id": "e5b6995f",
   "metadata": {},
   "outputs": [
    {
     "name": "stdout",
     "output_type": "stream",
     "text": [
      "Converted amount for JPY currency is 1.241401\n"
     ]
    }
   ],
   "source": [
    "#defining a function curconv() which will take currency and amount as input and then convert and return the amount in US dollars \n",
    "def curconv(currency, amount):\n",
    "    infile = open('curriencies.txt')\n",
    "\n",
    "    #reading and splitting the file to separate words\n",
    "    content  = infile.read()\n",
    "    wordList = content.split()\n",
    "    infile.close()\n",
    "    \n",
    "    amount_convert = 1\n",
    "    count = 0\n",
    "    \n",
    "    #Looping every word wordList[i] with entire length i.e. len(wordList) using range with a increment of 1 \n",
    "    #Next stripping every word in the iteration, to get each alphabet of the respective word as stripLine\n",
    "    for i in range(0, len(wordList),1):\n",
    "        stripLine = wordList[i].strip()\n",
    "        #checking 2nd occurence (1th place) equal to '.' for each and every word, so as to convert only the string value (numerical rates) into float\n",
    "        if (stripLine[1] == '.'):\n",
    "            wordList[i] = float(wordList[i])\n",
    "#        print(wordList[i])\n",
    "#        print(type(wordList[i]))\n",
    "#        print(wordList)\n",
    "\n",
    "    #Now looping each and every word again with entire length i.e. len(wordList) using range with a increment of 1 \n",
    "    for j in range(0, len(wordList),1):\n",
    "#        print(wordList[j])\n",
    "#        print(wordList[j+1])\n",
    "#        print(type(wordList[j+1]))\n",
    "\n",
    "        #checking if upper case of passed currency from called function curconv() is equal to currency stored in the file 'curriencies.txt'\n",
    "        #if currency matches, calculating converted currency value as amount_convert using converted float currency value which is adjacent to currency (wordList[j+1]) as per file\n",
    "        if (currency.upper() == wordList[j]):\n",
    "             amount_convert = ((amount) * (wordList[j+1]))\n",
    "             count += 1 \n",
    "#             print(amount_convert)\n",
    "        #printing converted amount using format\n",
    "             print(\"Converted amount for {} currency is {}\".format(currency,amount_convert))\n",
    "    return amount\n",
    "    \n",
    "\n",
    "# calling the function curconv() for the file 'curriencies.txt'\n",
    "func = curconv(\"JPY\", 100)\n"
   ]
  },
  {
   "cell_type": "markdown",
   "id": "4d644aa0",
   "metadata": {},
   "source": [
    "# Question 9"
   ]
  },
  {
   "cell_type": "markdown",
   "id": "14ea3a2b",
   "metadata": {},
   "source": [
    "(a) Trying to add incompatible variables, as in adding 6 + ‘a’\n",
    "\n",
    "As we are trying to add different data types i.e. int number and a char, it will throw an syntax error as shown below -> SyntaxError: invalid character in identifier"
   ]
  },
  {
   "cell_type": "code",
   "execution_count": 5,
   "id": "c865dff8",
   "metadata": {},
   "outputs": [
    {
     "ename": "SyntaxError",
     "evalue": "invalid character in identifier (<ipython-input-5-b8f23f875038>, line 1)",
     "output_type": "error",
     "traceback": [
      "\u001b[1;36m  File \u001b[1;32m\"<ipython-input-5-b8f23f875038>\"\u001b[1;36m, line \u001b[1;32m1\u001b[0m\n\u001b[1;33m    print (6 + ‘a’)\u001b[0m\n\u001b[1;37m                 ^\u001b[0m\n\u001b[1;31mSyntaxError\u001b[0m\u001b[1;31m:\u001b[0m invalid character in identifier\n"
     ]
    }
   ],
   "source": [
    "print (6 + ‘a’)"
   ]
  },
  {
   "cell_type": "markdown",
   "id": "25649d6e",
   "metadata": {},
   "source": [
    "(b) Referring to the 12th item of a list that has only 10 items\n",
    "\n",
    "As we are trying to refer 12th item of a list that has only 10 items, it will throw an Index error as shown below -> IndexError: list index out of range"
   ]
  },
  {
   "cell_type": "code",
   "execution_count": 9,
   "id": "faeac9ea",
   "metadata": {},
   "outputs": [
    {
     "ename": "IndexError",
     "evalue": "list index out of range",
     "output_type": "error",
     "traceback": [
      "\u001b[1;31m---------------------------------------------------------------------------\u001b[0m",
      "\u001b[1;31mIndexError\u001b[0m                                Traceback (most recent call last)",
      "\u001b[1;32m<ipython-input-9-7510d0510f77>\u001b[0m in \u001b[0;36m<module>\u001b[1;34m\u001b[0m\n\u001b[0;32m      1\u001b[0m \u001b[0mmyList\u001b[0m \u001b[1;33m=\u001b[0m \u001b[1;33m[\u001b[0m\u001b[1;36m1\u001b[0m\u001b[1;33m,\u001b[0m\u001b[1;36m2\u001b[0m\u001b[1;33m,\u001b[0m\u001b[1;36m3\u001b[0m\u001b[1;33m,\u001b[0m\u001b[1;36m4\u001b[0m\u001b[1;33m,\u001b[0m\u001b[1;36m5\u001b[0m\u001b[1;33m,\u001b[0m\u001b[1;36m6\u001b[0m\u001b[1;33m,\u001b[0m\u001b[1;36m7\u001b[0m\u001b[1;33m,\u001b[0m\u001b[1;36m8\u001b[0m\u001b[1;33m,\u001b[0m\u001b[1;36m9\u001b[0m\u001b[1;33m,\u001b[0m\u001b[1;36m10\u001b[0m\u001b[1;33m]\u001b[0m\u001b[1;33m\u001b[0m\u001b[1;33m\u001b[0m\u001b[0m\n\u001b[1;32m----> 2\u001b[1;33m \u001b[0mprint\u001b[0m\u001b[1;33m(\u001b[0m\u001b[0mmyList\u001b[0m\u001b[1;33m[\u001b[0m\u001b[1;36m12\u001b[0m\u001b[1;33m]\u001b[0m\u001b[1;33m)\u001b[0m\u001b[1;33m\u001b[0m\u001b[1;33m\u001b[0m\u001b[0m\n\u001b[0m",
      "\u001b[1;31mIndexError\u001b[0m: list index out of range"
     ]
    }
   ],
   "source": [
    "myList = [1,2,3,4,5,6,7,8,9,10]\n",
    "print(myList[12])\n"
   ]
  },
  {
   "cell_type": "markdown",
   "id": "ac86fc0a",
   "metadata": {},
   "source": [
    "(c) Using a value that is out of range for a function’s input, such as calling math.sqrt( 1.0)\n",
    "\n",
    "As we are trying to pass a negative value that is not in the range for math function, it will throw an value error as shown below -> ValueError: math domain error"
   ]
  },
  {
   "cell_type": "code",
   "execution_count": 27,
   "id": "5a33ca18",
   "metadata": {},
   "outputs": [
    {
     "ename": "ValueError",
     "evalue": "math domain error",
     "output_type": "error",
     "traceback": [
      "\u001b[1;31m---------------------------------------------------------------------------\u001b[0m",
      "\u001b[1;31mValueError\u001b[0m                                Traceback (most recent call last)",
      "\u001b[1;32m<ipython-input-27-87ffe6dcf8c7>\u001b[0m in \u001b[0;36m<module>\u001b[1;34m\u001b[0m\n\u001b[0;32m      1\u001b[0m \u001b[1;32mimport\u001b[0m \u001b[0mmath\u001b[0m\u001b[1;33m\u001b[0m\u001b[1;33m\u001b[0m\u001b[0m\n\u001b[1;32m----> 2\u001b[1;33m \u001b[0ma\u001b[0m \u001b[1;33m=\u001b[0m \u001b[0mmath\u001b[0m\u001b[1;33m.\u001b[0m\u001b[0msqrt\u001b[0m\u001b[1;33m(\u001b[0m\u001b[1;33m-\u001b[0m\u001b[1;36m1.0\u001b[0m\u001b[1;33m)\u001b[0m\u001b[1;33m\u001b[0m\u001b[1;33m\u001b[0m\u001b[0m\n\u001b[0m\u001b[0;32m      3\u001b[0m \u001b[0mprint\u001b[0m\u001b[1;33m(\u001b[0m\u001b[0ma\u001b[0m\u001b[1;33m)\u001b[0m\u001b[1;33m\u001b[0m\u001b[1;33m\u001b[0m\u001b[0m\n",
      "\u001b[1;31mValueError\u001b[0m: math domain error"
     ]
    }
   ],
   "source": [
    "import math\n",
    "a = math.sqrt(-1.0)\n",
    "print(a)"
   ]
  },
  {
   "cell_type": "markdown",
   "id": "695ac55c",
   "metadata": {},
   "source": [
    "(d) Using an undeclared variable, such as print(x)\n",
    "when x has not been defined\n",
    "\n",
    "As we are trying to use an undeclared variable 'x' which has not been defined or assigned any value, it will throw a Name error as shown below -> NameError: name 'x' is not defined"
   ]
  },
  {
   "cell_type": "code",
   "execution_count": 31,
   "id": "d97919ab",
   "metadata": {},
   "outputs": [
    {
     "ename": "NameError",
     "evalue": "name 'x' is not defined",
     "output_type": "error",
     "traceback": [
      "\u001b[1;31m---------------------------------------------------------------------------\u001b[0m",
      "\u001b[1;31mNameError\u001b[0m                                 Traceback (most recent call last)",
      "\u001b[1;32m<ipython-input-31-fc17d851ef81>\u001b[0m in \u001b[0;36m<module>\u001b[1;34m\u001b[0m\n\u001b[1;32m----> 1\u001b[1;33m \u001b[0mprint\u001b[0m\u001b[1;33m(\u001b[0m\u001b[0mx\u001b[0m\u001b[1;33m)\u001b[0m\u001b[1;33m\u001b[0m\u001b[1;33m\u001b[0m\u001b[0m\n\u001b[0m",
      "\u001b[1;31mNameError\u001b[0m: name 'x' is not defined"
     ]
    }
   ],
   "source": [
    "print(x)"
   ]
  },
  {
   "cell_type": "markdown",
   "id": "c092f981",
   "metadata": {},
   "source": [
    "(e) Trying to open a file that does not exist, such as mistyping the file name or looking in the wrong directory.\n",
    "\n",
    "As we are trying to open a file that does not exist, such as mistyping the file name or looking in the wrong directory, it will throw a FileNotFoundError as shown below -> FileNotFoundError: [Errno 2] No such file or directory: '<file name>'"
   ]
  },
  {
   "cell_type": "code",
   "execution_count": 5,
   "id": "6a1a6c6f",
   "metadata": {
    "scrolled": true
   },
   "outputs": [
    {
     "ename": "FileNotFoundError",
     "evalue": "[Errno 2] No such file or directory: 'abe.txt'",
     "output_type": "error",
     "traceback": [
      "\u001b[1;31m---------------------------------------------------------------------------\u001b[0m",
      "\u001b[1;31mFileNotFoundError\u001b[0m                         Traceback (most recent call last)",
      "\u001b[1;32m<ipython-input-5-14165385e347>\u001b[0m in \u001b[0;36m<module>\u001b[1;34m\u001b[0m\n\u001b[0;32m     10\u001b[0m \u001b[1;31m# calling the function- function() for the file 'abc.txt'\u001b[0m\u001b[1;33m\u001b[0m\u001b[1;33m\u001b[0m\u001b[1;33m\u001b[0m\u001b[0m\n\u001b[0;32m     11\u001b[0m \u001b[0mname\u001b[0m \u001b[1;33m=\u001b[0m \u001b[1;33m(\u001b[0m\u001b[1;34m'abc.txt'\u001b[0m\u001b[1;33m)\u001b[0m\u001b[1;33m\u001b[0m\u001b[1;33m\u001b[0m\u001b[0m\n\u001b[1;32m---> 12\u001b[1;33m \u001b[0mnew_function\u001b[0m \u001b[1;33m=\u001b[0m \u001b[0mfunction\u001b[0m\u001b[1;33m(\u001b[0m\u001b[0mname\u001b[0m\u001b[1;33m)\u001b[0m\u001b[1;33m\u001b[0m\u001b[1;33m\u001b[0m\u001b[0m\n\u001b[0m",
      "\u001b[1;32m<ipython-input-5-14165385e347>\u001b[0m in \u001b[0;36mfunction\u001b[1;34m(name)\u001b[0m\n\u001b[0;32m      1\u001b[0m \u001b[1;31m#defining a function- function() to open file ('abc.txt') and split the file into words\u001b[0m\u001b[1;33m\u001b[0m\u001b[1;33m\u001b[0m\u001b[1;33m\u001b[0m\u001b[0m\n\u001b[0;32m      2\u001b[0m \u001b[1;32mdef\u001b[0m \u001b[0mfunction\u001b[0m\u001b[1;33m(\u001b[0m\u001b[0mname\u001b[0m\u001b[1;33m)\u001b[0m\u001b[1;33m:\u001b[0m\u001b[1;33m\u001b[0m\u001b[1;33m\u001b[0m\u001b[0m\n\u001b[1;32m----> 3\u001b[1;33m     \u001b[0minfile\u001b[0m \u001b[1;33m=\u001b[0m \u001b[0mopen\u001b[0m\u001b[1;33m(\u001b[0m\u001b[1;34m'abe.txt'\u001b[0m\u001b[1;33m)\u001b[0m\u001b[1;33m\u001b[0m\u001b[1;33m\u001b[0m\u001b[0m\n\u001b[0m\u001b[0;32m      4\u001b[0m \u001b[1;33m\u001b[0m\u001b[0m\n\u001b[0;32m      5\u001b[0m \u001b[1;31m#reading and splitting the file to get words\u001b[0m\u001b[1;33m\u001b[0m\u001b[1;33m\u001b[0m\u001b[1;33m\u001b[0m\u001b[0m\n",
      "\u001b[1;31mFileNotFoundError\u001b[0m: [Errno 2] No such file or directory: 'abe.txt'"
     ]
    }
   ],
   "source": [
    "#defining a function- function() to open file ('abc.txt') and split the file into words\n",
    "def function(name):\n",
    "    infile = open('abe.txt')\n",
    "\n",
    "#reading and splitting the file to get words\n",
    "    content = infile.read()\n",
    "    wordList = content.split()\n",
    "    infile.close()\n",
    "\n",
    "# calling the function- function() for the file 'abc.txt'\n",
    "name = ('abc.txt')\n",
    "new_function = function(name)\n"
   ]
  },
  {
   "cell_type": "markdown",
   "id": "93ba6c8b",
   "metadata": {},
   "source": [
    "# Question 10\n",
    "Defining a function frequencies() that takes a user given string as its parameter and return a list of integers. It will show the number of times each character appeared in the given string parameter\n"
   ]
  },
  {
   "cell_type": "code",
   "execution_count": 83,
   "id": "d12a96c7",
   "metadata": {},
   "outputs": [
    {
     "name": "stdout",
     "output_type": "stream",
     "text": [
      "Please enter a string ? The quick red fox got bored and went home.\n",
      "1, 1, 1, 3, 5, 1, 1, 2, 1, 0, 1, 0, 1, 2, 4, 0, 1, 2, 0, 3, 1, 0, 1, 1, 0, 0, "
     ]
    }
   ],
   "source": [
    "#Defining a function frequencies() that takes a user given string as its parameter and return a list of integers.\n",
    "#It will show the number of times each character appeared in the given string parameter\n",
    "def frequencies(string):\n",
    "    #converting string to lower case\n",
    "    x = string.lower()\n",
    "    \n",
    "    #As given, string letters is already defined as below-\n",
    "    letters = 'abcdefghijklmnopqrstuvwxyz'\n",
    "    \n",
    "#Looping 0 to len(letters) i.e. 26 times to get the respective counts of each alphabet (a to z) in the the given string parameter\n",
    "    for i in range(0, len(letters),1):\n",
    "        count = x.count(letters[i]) #here, x is the string parameter passed in lower case\n",
    "        #Displaying the count of each alphabet apprearing in the x = string.lower()\n",
    "        #Herein, using end separater to display the respective counts of (a to z) in the same line as per sample provided in the question\n",
    "        print (count, end=\", \")\n",
    "\n",
    "# accepting user input for string\n",
    "string = input (\"Please enter a string ? \")\n",
    "\n",
    "# calling function pig() passing argument string\n",
    "function = frequencies(string)\n"
   ]
  },
  {
   "cell_type": "code",
   "execution_count": 84,
   "id": "771fe17f",
   "metadata": {},
   "outputs": [
    {
     "name": "stdout",
     "output_type": "stream",
     "text": [
      "Please enter a string ? apple\n",
      "1, 0, 0, 0, 1, 0, 0, 0, 0, 0, 0, 1, 0, 0, 0, 2, 0, 0, 0, 0, 0, 0, 0, 0, 0, 0, "
     ]
    }
   ],
   "source": [
    "#defining a function frequencies() that takes a user given string as its parameter and return a list of integers.\n",
    "#It will show the number of times each character appeared in the given string parameter\n",
    "def frequencies(string):\n",
    "    #converting string to lower case\n",
    "    x = string.lower()\n",
    "    \n",
    "    #As given, string letters is already defined as below-\n",
    "    letters = 'abcdefghijklmnopqrstuvwxyz'\n",
    "    \n",
    "#Looping 0 to len(letters) i.e. 26 times to get the respective counts of each alphabet (a to z) in the the given string parameter\n",
    "    for i in range(0, len(letters),1):\n",
    "        count = x.count(letters[i]) #here, x is the string parameter passed in lower case\n",
    "        #Displaying the count of each alphabet apprearing in the x = string.lower()\n",
    "        #Herein, using end separater to display the respective counts of (a to z) in the same line as per sample provided in the question\n",
    "        print (count, end=\", \")\n",
    "\n",
    "# accepting user input for string\n",
    "string = input (\"Please enter a string ? \")\n",
    "\n",
    "# calling function pig() passing argument string\n",
    "function = frequencies(string)\n"
   ]
  },
  {
   "cell_type": "code",
   "execution_count": null,
   "id": "4e1add35",
   "metadata": {},
   "outputs": [],
   "source": []
  }
 ],
 "metadata": {
  "kernelspec": {
   "display_name": "Python 3",
   "language": "python",
   "name": "python3"
  },
  "language_info": {
   "codemirror_mode": {
    "name": "ipython",
    "version": 3
   },
   "file_extension": ".py",
   "mimetype": "text/x-python",
   "name": "python",
   "nbconvert_exporter": "python",
   "pygments_lexer": "ipython3",
   "version": "3.8.8"
  }
 },
 "nbformat": 4,
 "nbformat_minor": 5
}
