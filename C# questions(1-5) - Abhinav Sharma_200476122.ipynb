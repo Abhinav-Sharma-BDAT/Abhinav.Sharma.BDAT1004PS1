{
 "cells": [
  {
   "cell_type": "markdown",
   "id": "e3df2f62",
   "metadata": {},
   "source": [
    "# Question1\n",
    "Please find below respective data types for the samples provided in Question1:\n"
   ]
  },
  {
   "cell_type": "markdown",
   "id": "95436de4",
   "metadata": {},
   "source": [
    "|Sample            | Data type                                    |\n",
    "|:---              |-----------------:                            | \n",
    "|5                 |Int                                           |                \n",
    "|5.0               |Double                                        |     \n",
    "|5 > 1             |Boolean                                       |\n",
    "|'5'               |Char                                          |\n",
    "|5 * 2             |Int                                           | \n",
    "|'5' * 2           |Int                                           |\n",
    "|'5' + '2'         |Int                                           |\n",
    "|5 / 2             |Int                                           |\n",
    "|5 % 2             |Int                                           |\n",
    "|{5, 2, 1}         |Int                                           |\n",
    "|5 == 3            |Boolean                                       |\n",
    "|Pi (the number)   |Double                                        |"
   ]
  },
  {
   "cell_type": "markdown",
   "id": "b386f514",
   "metadata": {},
   "source": [
    "# Question2\n",
    "\n",
    "(a) How many letters are there in 'Supercalifragilisticexpialidocious'? \n",
    "//Expression and it's evaluation as below:\n"
   ]
  },
  {
   "cell_type": "code",
   "execution_count": 120,
   "id": "62f12519",
   "metadata": {},
   "outputs": [
    {
     "name": "stdout",
     "output_type": "stream",
     "text": [
      "34\r\n"
     ]
    }
   ],
   "source": [
    "string x = \"Supercalifragilisticexpialidocious\";\n",
    "//Below syntax will calculate the length of the string\n",
    "Console.WriteLine(x.Length); "
   ]
  },
  {
   "cell_type": "markdown",
   "id": "f3411f11",
   "metadata": {},
   "source": [
    "(b) Does 'Supercalifragilisticexpialidocious' contain 'ice' as a substring?\n",
    "//Expression and it's evaluation as below:"
   ]
  },
  {
   "cell_type": "code",
   "execution_count": 128,
   "id": "c35e38f6",
   "metadata": {},
   "outputs": [
    {
     "name": "stdout",
     "output_type": "stream",
     "text": [
      "Supercalifragilisticexpialidocious' contains 'ice' as a substring\r\n"
     ]
    }
   ],
   "source": [
    "string x = \"Supercalifragilisticexpialidocious\";\n",
    "//Below syntax will check if the string x contains another string \"ice\" or not\n",
    "//If condition satisfies will print line1 else will print line2\n",
    "if (x.Contains(\"ice\"))\n",
    "     {\n",
    "         Console.WriteLine(\"Supercalifragilisticexpialidocious' contains 'ice' as a substring\");\n",
    "     }\n",
    "         \n",
    "else\n",
    "     {\n",
    "        Console.WriteLine(\"Supercalifragilisticexpialidocious' does not contain 'ice' as a substring\");\n",
    "     }\n"
   ]
  },
  {
   "cell_type": "markdown",
   "id": "7dbb27fc",
   "metadata": {},
   "source": [
    "(c) Which of the following words is the longest: \n",
    "Supercalifragilisticexpialidocious, Honorificabilitudinitatibus, or\n",
    "Bababadalgharaghtakamminarronnkonn? \n",
    "//Expression and it's evaluation as below:"
   ]
  },
  {
   "cell_type": "code",
   "execution_count": 129,
   "id": "aac22845",
   "metadata": {},
   "outputs": [
    {
     "name": "stdout",
     "output_type": "stream",
     "text": [
      "'Supercalifragilisticexpialidocious' and 'Bababadalgharaghtakamminarronnkonn' words are the longest with length 34\r\n"
     ]
    }
   ],
   "source": [
    "string x = \"Supercalifragilisticexpialidocious\";\n",
    "string y = \"Honorificabilitudinitatibus\";\n",
    "string z = \"Bababadalgharaghtakamminarronnkonn\";\n",
    "\n",
    "//calculating lengths of each of the 3 strings x, y and z\n",
    "int a = (x.Length);\n",
    "int b = (y.Length);\n",
    "int c = (z.Length);\n",
    "\n",
    "//checking whether a is greater than both b and c\n",
    "if (a>b && a>c)\n",
    "Console.WriteLine(\"'Supercalifragilisticexpialidocious' word is the longest with length {0}\", a);\n",
    "\n",
    "//checking whether b is greater than both a and c\n",
    "else if (b>a && b>c)\n",
    "Console.WriteLine(\"'Honorificabilitudinitatibus' word is the longest with length {0}\", b);\n",
    "\n",
    "//checking whether c is greater than both a and b\n",
    "else if (c>a && c>b)\n",
    "Console.WriteLine(\"'Bababadalgharaghtakamminarronnkonn' word is the longest with length {0}\", c);\n",
    "\n",
    "//checking whether All 3 words have same length\n",
    "else if (a == b && a == c)\n",
    "Console.WriteLine(\"All words have same length with length{0}\", a);\n",
    "\n",
    "//checking whether 2 words (1st and 2nd) have same length\n",
    "else if (a == b)\n",
    "Console.WriteLine(\"'Supercalifragilisticexpialidocious' and 'Honorificabilitudinitatibus' words are the longest with length {0}\", a);\n",
    "\n",
    "//checking whether 2 words (1st and 3rd) have same length\n",
    "else if (a == c)\n",
    "Console.WriteLine(\"'Supercalifragilisticexpialidocious' and 'Bababadalgharaghtakamminarronnkonn' words are the longest with length {0}\", a);\n",
    "\n",
    "//checking whether 2 words (2nd and 3rd) have same length\n",
    "else if (b == c)\n",
    "Console.WriteLine(\"'Honorificabilitudinitatibus' and 'Bababadalgharaghtakamminarronnkonn' words are the longest with length {0}\", b);\n"
   ]
  },
  {
   "cell_type": "markdown",
   "id": "cdcfd600",
   "metadata": {},
   "source": [
    "(d) Which composer comes first in the dictionary: 'Berlioz', 'Borodin', 'Brian',\n",
    "'Bartok', 'Bellini', 'Buxtehude', 'Bernstein'. Which one comes last? \n",
    "//Expression and it's evaluation as below:"
   ]
  },
  {
   "cell_type": "code",
   "execution_count": 3,
   "id": "317f8af2",
   "metadata": {},
   "outputs": [
    {
     "name": "stdout",
     "output_type": "stream",
     "text": [
      "1 Berlioz\n",
      "2 Borodin\n",
      "3 Brian\n",
      "4 Bartok\n",
      "5 Bellini\n",
      "6 Buxtehude\n",
      "7 Bernstein\n"
     ]
    }
   ],
   "source": [
    "//Creating a Dictionary composer as below and storing all the seven names provided as per distinct keys\n",
    "Dictionary<string, string> composer = new Dictionary<string, string>();\n",
    "          composer.Add(\"1\", \"Berlioz\");\n",
    "          composer.Add(\"2\", \"Borodin\");\n",
    "          composer.Add(\"3\", \"Brian\");\n",
    "          composer.Add(\"4\", \"Bartok\");\n",
    "          composer.Add(\"5\", \"Bellini\");\n",
    "          composer.Add(\"6\", \"Buxtehude\");\n",
    "          composer.Add(\"7\", \"Bernstein\");\n",
    "            foreach (KeyValuePair<string, string> kv in composer)\n",
    "            {\n",
    "                  Console.WriteLine(kv.Key + \" \" + kv.Value);\n",
    "             }"
   ]
  },
  {
   "cell_type": "markdown",
   "id": "3326fc3d",
   "metadata": {},
   "source": [
    "//Herein, as per Dictionary, 'Berlioz' comes first and 'Bernstein' comes last."
   ]
  },
  {
   "cell_type": "markdown",
   "id": "7c49ae01",
   "metadata": {},
   "source": [
    "# Question3\n",
    "Implementing a function triangleArea that takes input as the lengths of the 3\n",
    "sides of a triangle and returns the area of triangle."
   ]
  },
  {
   "cell_type": "code",
   "execution_count": 54,
   "id": "284dff8a",
   "metadata": {},
   "outputs": [],
   "source": [
    "class Triangle\n",
    "     {\n",
    "            //Function triangleArea will accept values a,b and c and return the area as per formula used below\n",
    "            double s;\n",
    "            public double triangleArea(double a, double b, double c)\n",
    "            {\n",
    "                  s = (a + b + c)/2;\n",
    "                  return Math.Sqrt(s*(s-a)*(s-b)*(s-c)); //Math.sqrt will take the square root of the respective calculated value\n",
    "            }\n",
    "      }\n"
   ]
  },
  {
   "cell_type": "code",
   "execution_count": 55,
   "id": "e0d9e9a0",
   "metadata": {},
   "outputs": [
    {
     "name": "stdout",
     "output_type": "stream",
     "text": [
      "area:  1.7320508075688772\r\n"
     ]
    }
   ],
   "source": [
    "Triangle tri = new Triangle();\n",
    "//passing values of a, b and c as (2,2,2) and calculating area of the triangle as per formula\n",
    "Console.WriteLine(\"area:  {0}\", tri.triangleArea(2,2,2));\n"
   ]
  },
  {
   "cell_type": "markdown",
   "id": "7d311c6d",
   "metadata": {},
   "source": [
    "# Question4\n",
    "Below is the program to separate odd and even integers from a Array in two separate arrays - arr_even and arr_odd"
   ]
  },
  {
   "cell_type": "code",
   "execution_count": 131,
   "id": "aa1273a2",
   "metadata": {},
   "outputs": [
    {
     "name": "stdout",
     "output_type": "stream",
     "text": [
      "The Even elements are: \n",
      "42\n",
      "56\n",
      "32\n",
      "The Odd elements are: \n",
      "25\n",
      "47\n"
     ]
    }
   ],
   "source": [
    "int[] arr = new int[5];        \n",
    "        arr[0] = 25;\n",
    "        arr[1] = 47;\n",
    "        arr[2] = 42;\n",
    "        arr[3] = 56;\n",
    "        arr[4] = 32;\n",
    "//Declaring two new arrays as arr_even and arr_odd\n",
    "int[] arr_even = new int[5]; \n",
    "int[] arr_odd  = new int[5];\n",
    "int i=0,m=0,n=0,j=0;\n",
    "//In a loop of 5, checking if array element divided by 2 gives a zero remainder. If zero, i.e. even value and so moving to 1st array, else moving to another array.\n",
    "        for (int i = 0; i < 5; i++)\n",
    "        {\n",
    "            if (arr[i]%2 == 0)\n",
    "            {\n",
    "            arr_even[m] = arr[i];\n",
    "            m++;\n",
    "            }\n",
    "        else\n",
    "           {\n",
    "            arr_odd[n] = arr[i];\n",
    "            n++;\n",
    "           }\n",
    "        }\n",
    "//Writing even elements by executing a loop of j from j=0 until j<m (Herein, m is the count of even elements from main loop of i)        \n",
    "Console.WriteLine(\"The Even elements are: \");\n",
    "for (int j = 0; j < m; j++)\n",
    "        {\n",
    "          Console.WriteLine(\"{0}\", arr_even[j]);\n",
    "        }\n",
    "//Writing odd elements by executing a loop of j from j=0 until j<n (Herein, n is the count of odd elements from main loop of i)        \n",
    "Console.WriteLine(\"The Odd elements are: \");\n",
    "for (int j = 0; j < n; j++)\n",
    "        {\n",
    "          Console.WriteLine(\"{0}\", arr_odd[j]);\n",
    "        }"
   ]
  },
  {
   "cell_type": "markdown",
   "id": "6602a075",
   "metadata": {},
   "source": [
    "# Question5\n",
    "(a) To write a function inside(x,y,x1,y1,x2,y2) that returns True or False depending on whether the point (x,y) lies in the rectangle with lower left corner (x1,y1) and upper right corner (x2,y2).\n",
    "inside(1,1,0,0,2,3)   - True ;\n",
    "inside(-1,-1,0,0,2,3) - False"
   ]
  },
  {
   "cell_type": "code",
   "execution_count": 69,
   "id": "aa49313e",
   "metadata": {},
   "outputs": [],
   "source": [
    "class inside\n",
    "    {\n",
    "        public void check(double x, double y, double x1, double y1, double x2, double y2)\n",
    "        {\n",
    "            if ((x > x1 && y > y1) && (x < x2 && y < y2)) //True if point (x,y) lies inside rectangle otherwise false\n",
    "            {\n",
    "            Console.WriteLine(\"True. The point (x,y) lies inside rectangle.\");\n",
    "            }\n",
    "            else\n",
    "            {\n",
    "            Console.WriteLine(\"False. The point (x,y) lies outside rectangle.\");\n",
    "            }\n",
    "        }\n",
    "        \n",
    "    }\n",
    "    "
   ]
  },
  {
   "cell_type": "code",
   "execution_count": 70,
   "id": "1b2f75ad",
   "metadata": {},
   "outputs": [
    {
     "name": "stdout",
     "output_type": "stream",
     "text": [
      "Result for (1,1,0,0,2,3) values =\n",
      "True. The point (x,y) lies inside rectangle.\n",
      "Result for (-1,-1,0,0,2,3) values =\n",
      "False. The point (x,y) lies outside rectangle.\n"
     ]
    }
   ],
   "source": [
    "inside program = new inside(); \n",
    "Console.WriteLine(\"Result for (1,1,0,0,2,3) values =\");\n",
    "program.check(1,1,0,0,2,3);     //passing respective parameters as per first rectangle co-ordinates\n",
    "\n",
    "Console.WriteLine(\"Result for (-1,-1,0,0,2,3) values =\");\n",
    "program.check(-1,-1,0,0,2,3);   //passing respective parameters as per second rectangle co-ordinates\n"
   ]
  },
  {
   "cell_type": "markdown",
   "id": "32c18c0f",
   "metadata": {},
   "source": [
    "(b) Use function inside() from part a. to write an expression that tests whether the point (1,1) lies in both of the following rectangles: one with lower left corner (0.3, 0.5) and upper right corner (1.1, 0.7) and the other with lower left corner (0.5, 0.2) and upper right corner (1.1, 2)."
   ]
  },
  {
   "cell_type": "markdown",
   "id": "d70eaa69",
   "metadata": {},
   "source": [
    "//Herein, in Question5, for part (a) inside(1,1,0,0,2,3) retruns 'True' value and inside(-1,-1,0,0,2,3) returns 'False' value respectively.\n",
    "//Now, for part (b), writing a similar function inside1 to check whether (x,y) lies within (x1,y1) and (x2,y2) of 1st rectangle and (x3,y3) and (x4,y4) of 2nd rectangle simultaneously. And, after executing the below set of expression, it has returned 'False'."
   ]
  },
  {
   "cell_type": "code",
   "execution_count": 72,
   "id": "7775b36a",
   "metadata": {},
   "outputs": [],
   "source": [
    "class inside1\n",
    "    {\n",
    "        public void check1(double x, double y, double x1, double y1, double x2, double y2, double x3, double y3, double x4, double y4)\n",
    "        {           \n",
    "            if (( (x > x1 && y > y1) && (x < x2 && y < y2) ) &&  ( (x > x3 && y > y3) && (x < x4 && y < y4) ))\n",
    "            {\n",
    "            Console.WriteLine(\"True.\");\n",
    "            }\n",
    "            else\n",
    "            {\n",
    "            Console.WriteLine(\"False.\");\n",
    "            }\n",
    "        }        \n",
    "    }\n",
    "     "
   ]
  },
  {
   "cell_type": "code",
   "execution_count": 73,
   "id": "47b7fe2a",
   "metadata": {},
   "outputs": [
    {
     "name": "stdout",
     "output_type": "stream",
     "text": [
      "Result for point (1,1) if it lies within both rectangles (a): [(0.3, 0.5) & (1.1, 0.7)] and (b): [(0.5, 0.2) & (1.1, 2)] =\n",
      "False.\n"
     ]
    }
   ],
   "source": [
    "inside1 program1 = new inside1(); \n",
    "Console.WriteLine(\"Result for point (1,1) if it lies within both rectangles (a): [(0.3, 0.5) & (1.1, 0.7)] and (b): [(0.5, 0.2) & (1.1, 2)] =\");\n",
    "program1.check1(1,1,0.3,0.5,1.1,0.7,0.3,0.5,1.1,2);     //passing respective parameters as per both the rectangle co-ordinates\n"
   ]
  },
  {
   "cell_type": "code",
   "execution_count": null,
   "id": "738fbcc3",
   "metadata": {},
   "outputs": [],
   "source": []
  }
 ],
 "metadata": {
  "kernelspec": {
   "display_name": ".NET (C#)",
   "language": "C#",
   "name": ".net-csharp"
  },
  "language_info": {
   "file_extension": ".cs",
   "mimetype": "text/x-csharp",
   "name": "C#",
   "pygments_lexer": "csharp",
   "version": "9.0"
  }
 },
 "nbformat": 4,
 "nbformat_minor": 5
}
